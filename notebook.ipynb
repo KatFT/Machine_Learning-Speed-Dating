{
 "metadata": {
  "language_info": {
   "codemirror_mode": {
    "name": "ipython",
    "version": 3
   },
   "file_extension": ".py",
   "mimetype": "text/x-python",
   "name": "python",
   "nbconvert_exporter": "python",
   "pygments_lexer": "ipython3",
   "version": "3.6.9"
  },
  "orig_nbformat": 2,
  "kernelspec": {
   "name": "python369jvsc74a57bd031f2aee4e71d21fbe5cf8b01ff0e069b9275f58929596ceb00d14d90e3e16cd6",
   "display_name": "Python 3.6.9 64-bit"
  },
  "metadata": {
   "interpreter": {
    "hash": "31f2aee4e71d21fbe5cf8b01ff0e069b9275f58929596ceb00d14d90e3e16cd6"
   }
  }
 },
 "nbformat": 4,
 "nbformat_minor": 2,
 "cells": [
  {
   "cell_type": "code",
   "execution_count": 87,
   "metadata": {},
   "outputs": [
    {
     "output_type": "execute_result",
     "data": {
      "text/plain": [
       "   Unnamed: 0   id  partner   age  age_o  goal  date  go_out  int_corr  \\\n",
       "0           1  1.0        1  21.0   27.0   2.0   7.0     1.0      0.14   \n",
       "1           2  1.0        2  21.0   22.0   2.0   7.0     1.0      0.54   \n",
       "2           3  1.0        3  21.0   22.0   2.0   7.0     1.0      0.16   \n",
       "3           4  1.0        4  21.0   23.0   2.0   7.0     1.0      0.61   \n",
       "4           5  1.0        5  21.0   24.0   2.0   7.0     1.0      0.21   \n",
       "5           6  1.0        6  21.0   25.0   2.0   7.0     1.0      0.25   \n",
       "6           7  1.0        7  21.0   30.0   2.0   7.0     1.0      0.34   \n",
       "7           8  1.0        8  21.0   27.0   2.0   7.0     1.0      0.50   \n",
       "8           9  1.0        9  21.0   28.0   2.0   7.0     1.0      0.28   \n",
       "9          10  1.0       10  21.0   24.0   2.0   7.0     1.0     -0.36   \n",
       "\n",
       "   length  met  like  prob  match  \n",
       "0     2.0  1.0   7.0   6.0      0  \n",
       "1     2.0  1.0   7.0   5.0      0  \n",
       "2     2.0  1.0   7.0   NaN      1  \n",
       "3     2.0  1.0   7.0   6.0      1  \n",
       "4     2.0  1.0   6.0   6.0      1  \n",
       "5     2.0  1.0   6.0   5.0      0  \n",
       "6     2.0  1.0   6.0   5.0      0  \n",
       "7     2.0  NaN   6.0   7.0      0  \n",
       "8     2.0  1.0   7.0   7.0      1  \n",
       "9     2.0  1.0   6.0   6.0      0  "
      ],
      "text/html": "<div>\n<style scoped>\n    .dataframe tbody tr th:only-of-type {\n        vertical-align: middle;\n    }\n\n    .dataframe tbody tr th {\n        vertical-align: top;\n    }\n\n    .dataframe thead th {\n        text-align: right;\n    }\n</style>\n<table border=\"1\" class=\"dataframe\">\n  <thead>\n    <tr style=\"text-align: right;\">\n      <th></th>\n      <th>Unnamed: 0</th>\n      <th>id</th>\n      <th>partner</th>\n      <th>age</th>\n      <th>age_o</th>\n      <th>goal</th>\n      <th>date</th>\n      <th>go_out</th>\n      <th>int_corr</th>\n      <th>length</th>\n      <th>met</th>\n      <th>like</th>\n      <th>prob</th>\n      <th>match</th>\n    </tr>\n  </thead>\n  <tbody>\n    <tr>\n      <th>0</th>\n      <td>1</td>\n      <td>1.0</td>\n      <td>1</td>\n      <td>21.0</td>\n      <td>27.0</td>\n      <td>2.0</td>\n      <td>7.0</td>\n      <td>1.0</td>\n      <td>0.14</td>\n      <td>2.0</td>\n      <td>1.0</td>\n      <td>7.0</td>\n      <td>6.0</td>\n      <td>0</td>\n    </tr>\n    <tr>\n      <th>1</th>\n      <td>2</td>\n      <td>1.0</td>\n      <td>2</td>\n      <td>21.0</td>\n      <td>22.0</td>\n      <td>2.0</td>\n      <td>7.0</td>\n      <td>1.0</td>\n      <td>0.54</td>\n      <td>2.0</td>\n      <td>1.0</td>\n      <td>7.0</td>\n      <td>5.0</td>\n      <td>0</td>\n    </tr>\n    <tr>\n      <th>2</th>\n      <td>3</td>\n      <td>1.0</td>\n      <td>3</td>\n      <td>21.0</td>\n      <td>22.0</td>\n      <td>2.0</td>\n      <td>7.0</td>\n      <td>1.0</td>\n      <td>0.16</td>\n      <td>2.0</td>\n      <td>1.0</td>\n      <td>7.0</td>\n      <td>NaN</td>\n      <td>1</td>\n    </tr>\n    <tr>\n      <th>3</th>\n      <td>4</td>\n      <td>1.0</td>\n      <td>4</td>\n      <td>21.0</td>\n      <td>23.0</td>\n      <td>2.0</td>\n      <td>7.0</td>\n      <td>1.0</td>\n      <td>0.61</td>\n      <td>2.0</td>\n      <td>1.0</td>\n      <td>7.0</td>\n      <td>6.0</td>\n      <td>1</td>\n    </tr>\n    <tr>\n      <th>4</th>\n      <td>5</td>\n      <td>1.0</td>\n      <td>5</td>\n      <td>21.0</td>\n      <td>24.0</td>\n      <td>2.0</td>\n      <td>7.0</td>\n      <td>1.0</td>\n      <td>0.21</td>\n      <td>2.0</td>\n      <td>1.0</td>\n      <td>6.0</td>\n      <td>6.0</td>\n      <td>1</td>\n    </tr>\n    <tr>\n      <th>5</th>\n      <td>6</td>\n      <td>1.0</td>\n      <td>6</td>\n      <td>21.0</td>\n      <td>25.0</td>\n      <td>2.0</td>\n      <td>7.0</td>\n      <td>1.0</td>\n      <td>0.25</td>\n      <td>2.0</td>\n      <td>1.0</td>\n      <td>6.0</td>\n      <td>5.0</td>\n      <td>0</td>\n    </tr>\n    <tr>\n      <th>6</th>\n      <td>7</td>\n      <td>1.0</td>\n      <td>7</td>\n      <td>21.0</td>\n      <td>30.0</td>\n      <td>2.0</td>\n      <td>7.0</td>\n      <td>1.0</td>\n      <td>0.34</td>\n      <td>2.0</td>\n      <td>1.0</td>\n      <td>6.0</td>\n      <td>5.0</td>\n      <td>0</td>\n    </tr>\n    <tr>\n      <th>7</th>\n      <td>8</td>\n      <td>1.0</td>\n      <td>8</td>\n      <td>21.0</td>\n      <td>27.0</td>\n      <td>2.0</td>\n      <td>7.0</td>\n      <td>1.0</td>\n      <td>0.50</td>\n      <td>2.0</td>\n      <td>NaN</td>\n      <td>6.0</td>\n      <td>7.0</td>\n      <td>0</td>\n    </tr>\n    <tr>\n      <th>8</th>\n      <td>9</td>\n      <td>1.0</td>\n      <td>9</td>\n      <td>21.0</td>\n      <td>28.0</td>\n      <td>2.0</td>\n      <td>7.0</td>\n      <td>1.0</td>\n      <td>0.28</td>\n      <td>2.0</td>\n      <td>1.0</td>\n      <td>7.0</td>\n      <td>7.0</td>\n      <td>1</td>\n    </tr>\n    <tr>\n      <th>9</th>\n      <td>10</td>\n      <td>1.0</td>\n      <td>10</td>\n      <td>21.0</td>\n      <td>24.0</td>\n      <td>2.0</td>\n      <td>7.0</td>\n      <td>1.0</td>\n      <td>-0.36</td>\n      <td>2.0</td>\n      <td>1.0</td>\n      <td>6.0</td>\n      <td>6.0</td>\n      <td>0</td>\n    </tr>\n  </tbody>\n</table>\n</div>"
     },
     "metadata": {},
     "execution_count": 87
    }
   ],
   "source": [
    "import pandas as pd\n",
    "import numpy as np\n",
    "import sklearn \n",
    "\n",
    "from sklearn.model_selection import train_test_split\n",
    "from sklearn import metrics\n",
    "from sklearn.tree import DecisionTreeClassifier # Import Decision Tree Classifier\n",
    "\n",
    "# load dataset\n",
    "pima = pd.read_csv(\"speedDating_trab.csv\")\n",
    "\n",
    "pima.head(10)\n"
   ]
  },
  {
   "cell_type": "code",
   "execution_count": 88,
   "metadata": {},
   "outputs": [
    {
     "output_type": "execute_result",
     "data": {
      "text/plain": [
       "Unnamed: 0      0\n",
       "id              1\n",
       "partner         0\n",
       "age            95\n",
       "age_o         104\n",
       "goal           79\n",
       "date           97\n",
       "go_out         79\n",
       "int_corr      158\n",
       "length        915\n",
       "met           375\n",
       "like          240\n",
       "prob          309\n",
       "match           0\n",
       "dtype: int64"
      ]
     },
     "metadata": {},
     "execution_count": 88
    }
   ],
   "source": [
    "pima.isnull().sum()"
   ]
  },
  {
   "cell_type": "code",
   "execution_count": 89,
   "metadata": {},
   "outputs": [],
   "source": [
    "#tds os nans de tds as colunas menos o int_corr vamos preencher com a moda\n",
    "#o int_corr preenchemos com a media\n",
    "\n",
    "gf= pima['prob'].mode()[0]\n",
    "pima['prob'].fillna(value=gf,inplace=True)\n",
    "\n",
    "gf= pima['like'].mode()[0]\n",
    "pima['like'].fillna(value=gf,inplace=True)\n",
    "\n",
    "gf= pima['met'].mode()[0]\n",
    "pima['met'].fillna(value=gf,inplace=True)\n",
    "\n",
    "gf= pima['length'].mode()[0]\n",
    "pima['length'].fillna(value=gf,inplace=True)\n",
    "\n",
    "gf= pima['int_corr'].mean()\n",
    "pima['int_corr'].fillna(value=gf,inplace=True)\n",
    "\n",
    "gf= pima['go_out'].mode()[0]\n",
    "pima['go_out'].fillna(value=gf,inplace=True)\n",
    "\n",
    "gf= pima['date'].mode()[0]\n",
    "pima['date'].fillna(value=gf,inplace=True)\n",
    "\n",
    "gf= pima['goal'].mode()[0]\n",
    "pima['goal'].fillna(value=gf,inplace=True)\n",
    "\n",
    "gf= pima['age_o'].mode()[0]\n",
    "pima['age_o'].fillna(value=gf,inplace=True)\n",
    "\n",
    "gf= pima['age'].mode()[0]\n",
    "pima['age'].fillna(value=gf,inplace=True)\n",
    "\n",
    "gf= pima['id'].mode()[0]\n",
    "pima['id'].fillna(value=gf,inplace=True)\n",
    "\n",
    "\n"
   ]
  },
  {
   "cell_type": "code",
   "execution_count": 90,
   "metadata": {},
   "outputs": [
    {
     "output_type": "stream",
     "name": "stdout",
     "text": [
      "<class 'pandas.core.frame.DataFrame'>\nRangeIndex: 8378 entries, 0 to 8377\nData columns (total 14 columns):\n #   Column      Non-Null Count  Dtype  \n---  ------      --------------  -----  \n 0   Unnamed: 0  8378 non-null   int64  \n 1   id          8378 non-null   int64  \n 2   partner     8378 non-null   int64  \n 3   age         8378 non-null   int64  \n 4   age_o       8378 non-null   int64  \n 5   goal        8378 non-null   int64  \n 6   date        8378 non-null   int64  \n 7   go_out      8378 non-null   int64  \n 8   int_corr    8378 non-null   float64\n 9   length      8378 non-null   int64  \n 10  met         8378 non-null   int64  \n 11  like        8378 non-null   int64  \n 12  prob        8378 non-null   int64  \n 13  match       8378 non-null   int64  \ndtypes: float64(1), int64(13)\nmemory usage: 916.5 KB\n"
     ]
    }
   ],
   "source": [
    "#convertemos de float para int\n",
    "pima[['prob','like','met','length','go_out','date','goal','age_o','age','id']]=  pima[['prob','like','met','length','go_out','date','goal','age_o','age','id']].astype(int)\n",
    "\n",
    "pima.info()\n"
   ]
  },
  {
   "cell_type": "code",
   "execution_count": 91,
   "metadata": {},
   "outputs": [
    {
     "output_type": "execute_result",
     "data": {
      "text/plain": [
       "Unnamed: 0    0\n",
       "id            0\n",
       "partner       0\n",
       "age           0\n",
       "age_o         0\n",
       "goal          0\n",
       "date          0\n",
       "go_out        0\n",
       "int_corr      0\n",
       "length        0\n",
       "met           0\n",
       "like          0\n",
       "prob          0\n",
       "match         0\n",
       "dtype: int64"
      ]
     },
     "metadata": {},
     "execution_count": 91
    }
   ],
   "source": [
    "pima.isnull().sum()"
   ]
  },
  {
   "cell_type": "code",
   "execution_count": 92,
   "metadata": {},
   "outputs": [
    {
     "output_type": "execute_result",
     "data": {
      "text/plain": [
       "   Unnamed: 0  id  partner  age  age_o  goal  date  go_out  int_corr  length  \\\n",
       "0           1   1        1   21     27     2     7       1      0.14       2   \n",
       "1           2   1        2   21     22     2     7       1      0.54       2   \n",
       "2           3   1        3   21     22     2     7       1      0.16       2   \n",
       "3           4   1        4   21     23     2     7       1      0.61       2   \n",
       "4           5   1        5   21     24     2     7       1      0.21       2   \n",
       "5           6   1        6   21     25     2     7       1      0.25       2   \n",
       "6           7   1        7   21     30     2     7       1      0.34       2   \n",
       "7           8   1        8   21     27     2     7       1      0.50       2   \n",
       "8           9   1        9   21     28     2     7       1      0.28       2   \n",
       "9          10   1       10   21     24     2     7       1     -0.36       2   \n",
       "\n",
       "   met  like  prob  match  \n",
       "0    1     7     6      0  \n",
       "1    1     7     5      0  \n",
       "2    1     7     5      1  \n",
       "3    1     7     6      1  \n",
       "4    1     6     6      1  \n",
       "5    1     6     5      0  \n",
       "6    1     6     5      0  \n",
       "7    0     6     7      0  \n",
       "8    1     7     7      1  \n",
       "9    1     6     6      0  "
      ],
      "text/html": "<div>\n<style scoped>\n    .dataframe tbody tr th:only-of-type {\n        vertical-align: middle;\n    }\n\n    .dataframe tbody tr th {\n        vertical-align: top;\n    }\n\n    .dataframe thead th {\n        text-align: right;\n    }\n</style>\n<table border=\"1\" class=\"dataframe\">\n  <thead>\n    <tr style=\"text-align: right;\">\n      <th></th>\n      <th>Unnamed: 0</th>\n      <th>id</th>\n      <th>partner</th>\n      <th>age</th>\n      <th>age_o</th>\n      <th>goal</th>\n      <th>date</th>\n      <th>go_out</th>\n      <th>int_corr</th>\n      <th>length</th>\n      <th>met</th>\n      <th>like</th>\n      <th>prob</th>\n      <th>match</th>\n    </tr>\n  </thead>\n  <tbody>\n    <tr>\n      <th>0</th>\n      <td>1</td>\n      <td>1</td>\n      <td>1</td>\n      <td>21</td>\n      <td>27</td>\n      <td>2</td>\n      <td>7</td>\n      <td>1</td>\n      <td>0.14</td>\n      <td>2</td>\n      <td>1</td>\n      <td>7</td>\n      <td>6</td>\n      <td>0</td>\n    </tr>\n    <tr>\n      <th>1</th>\n      <td>2</td>\n      <td>1</td>\n      <td>2</td>\n      <td>21</td>\n      <td>22</td>\n      <td>2</td>\n      <td>7</td>\n      <td>1</td>\n      <td>0.54</td>\n      <td>2</td>\n      <td>1</td>\n      <td>7</td>\n      <td>5</td>\n      <td>0</td>\n    </tr>\n    <tr>\n      <th>2</th>\n      <td>3</td>\n      <td>1</td>\n      <td>3</td>\n      <td>21</td>\n      <td>22</td>\n      <td>2</td>\n      <td>7</td>\n      <td>1</td>\n      <td>0.16</td>\n      <td>2</td>\n      <td>1</td>\n      <td>7</td>\n      <td>5</td>\n      <td>1</td>\n    </tr>\n    <tr>\n      <th>3</th>\n      <td>4</td>\n      <td>1</td>\n      <td>4</td>\n      <td>21</td>\n      <td>23</td>\n      <td>2</td>\n      <td>7</td>\n      <td>1</td>\n      <td>0.61</td>\n      <td>2</td>\n      <td>1</td>\n      <td>7</td>\n      <td>6</td>\n      <td>1</td>\n    </tr>\n    <tr>\n      <th>4</th>\n      <td>5</td>\n      <td>1</td>\n      <td>5</td>\n      <td>21</td>\n      <td>24</td>\n      <td>2</td>\n      <td>7</td>\n      <td>1</td>\n      <td>0.21</td>\n      <td>2</td>\n      <td>1</td>\n      <td>6</td>\n      <td>6</td>\n      <td>1</td>\n    </tr>\n    <tr>\n      <th>5</th>\n      <td>6</td>\n      <td>1</td>\n      <td>6</td>\n      <td>21</td>\n      <td>25</td>\n      <td>2</td>\n      <td>7</td>\n      <td>1</td>\n      <td>0.25</td>\n      <td>2</td>\n      <td>1</td>\n      <td>6</td>\n      <td>5</td>\n      <td>0</td>\n    </tr>\n    <tr>\n      <th>6</th>\n      <td>7</td>\n      <td>1</td>\n      <td>7</td>\n      <td>21</td>\n      <td>30</td>\n      <td>2</td>\n      <td>7</td>\n      <td>1</td>\n      <td>0.34</td>\n      <td>2</td>\n      <td>1</td>\n      <td>6</td>\n      <td>5</td>\n      <td>0</td>\n    </tr>\n    <tr>\n      <th>7</th>\n      <td>8</td>\n      <td>1</td>\n      <td>8</td>\n      <td>21</td>\n      <td>27</td>\n      <td>2</td>\n      <td>7</td>\n      <td>1</td>\n      <td>0.50</td>\n      <td>2</td>\n      <td>0</td>\n      <td>6</td>\n      <td>7</td>\n      <td>0</td>\n    </tr>\n    <tr>\n      <th>8</th>\n      <td>9</td>\n      <td>1</td>\n      <td>9</td>\n      <td>21</td>\n      <td>28</td>\n      <td>2</td>\n      <td>7</td>\n      <td>1</td>\n      <td>0.28</td>\n      <td>2</td>\n      <td>1</td>\n      <td>7</td>\n      <td>7</td>\n      <td>1</td>\n    </tr>\n    <tr>\n      <th>9</th>\n      <td>10</td>\n      <td>1</td>\n      <td>10</td>\n      <td>21</td>\n      <td>24</td>\n      <td>2</td>\n      <td>7</td>\n      <td>1</td>\n      <td>-0.36</td>\n      <td>2</td>\n      <td>1</td>\n      <td>6</td>\n      <td>6</td>\n      <td>0</td>\n    </tr>\n  </tbody>\n</table>\n</div>"
     },
     "metadata": {},
     "execution_count": 92
    }
   ],
   "source": [
    "pima.head(10)"
   ]
  },
  {
   "cell_type": "code",
   "execution_count": 93,
   "metadata": {},
   "outputs": [],
   "source": [
    "\n",
    "#dropamos a tabela int_corr pq é irrelevante neste momento\n",
    "pima = pima.drop('int_corr',1)\n",
    "\n",
    "#divisao do cassos em q tem match e os q n tem match\n",
    "resultados = pima['match']\n",
    "dados = pima.drop(['match'],axis=1)\n",
    "\n",
    "\n",
    "# Split dataset into training set and test set (30%/70%)\n",
    "dados_treino, dados_teste, resultados_treino, resultados_teste= train_test_split( dados, resultados, test_size=0.3, random_state=1)"
   ]
  },
  {
   "cell_type": "code",
   "execution_count": 94,
   "metadata": {},
   "outputs": [
    {
     "output_type": "execute_result",
     "data": {
      "text/plain": [
       "   Unnamed: 0  id  partner  age  age_o  goal  date  go_out  length  met  like  \\\n",
       "0           1   1        1   21     27     2     7       1       2    1     7   \n",
       "1           2   1        2   21     22     2     7       1       2    1     7   \n",
       "2           3   1        3   21     22     2     7       1       2    1     7   \n",
       "3           4   1        4   21     23     2     7       1       2    1     7   \n",
       "4           5   1        5   21     24     2     7       1       2    1     6   \n",
       "5           6   1        6   21     25     2     7       1       2    1     6   \n",
       "6           7   1        7   21     30     2     7       1       2    1     6   \n",
       "7           8   1        8   21     27     2     7       1       2    0     6   \n",
       "8           9   1        9   21     28     2     7       1       2    1     7   \n",
       "9          10   1       10   21     24     2     7       1       2    1     6   \n",
       "\n",
       "   prob  match  \n",
       "0     6      0  \n",
       "1     5      0  \n",
       "2     5      1  \n",
       "3     6      1  \n",
       "4     6      1  \n",
       "5     5      0  \n",
       "6     5      0  \n",
       "7     7      0  \n",
       "8     7      1  \n",
       "9     6      0  "
      ],
      "text/html": "<div>\n<style scoped>\n    .dataframe tbody tr th:only-of-type {\n        vertical-align: middle;\n    }\n\n    .dataframe tbody tr th {\n        vertical-align: top;\n    }\n\n    .dataframe thead th {\n        text-align: right;\n    }\n</style>\n<table border=\"1\" class=\"dataframe\">\n  <thead>\n    <tr style=\"text-align: right;\">\n      <th></th>\n      <th>Unnamed: 0</th>\n      <th>id</th>\n      <th>partner</th>\n      <th>age</th>\n      <th>age_o</th>\n      <th>goal</th>\n      <th>date</th>\n      <th>go_out</th>\n      <th>length</th>\n      <th>met</th>\n      <th>like</th>\n      <th>prob</th>\n      <th>match</th>\n    </tr>\n  </thead>\n  <tbody>\n    <tr>\n      <th>0</th>\n      <td>1</td>\n      <td>1</td>\n      <td>1</td>\n      <td>21</td>\n      <td>27</td>\n      <td>2</td>\n      <td>7</td>\n      <td>1</td>\n      <td>2</td>\n      <td>1</td>\n      <td>7</td>\n      <td>6</td>\n      <td>0</td>\n    </tr>\n    <tr>\n      <th>1</th>\n      <td>2</td>\n      <td>1</td>\n      <td>2</td>\n      <td>21</td>\n      <td>22</td>\n      <td>2</td>\n      <td>7</td>\n      <td>1</td>\n      <td>2</td>\n      <td>1</td>\n      <td>7</td>\n      <td>5</td>\n      <td>0</td>\n    </tr>\n    <tr>\n      <th>2</th>\n      <td>3</td>\n      <td>1</td>\n      <td>3</td>\n      <td>21</td>\n      <td>22</td>\n      <td>2</td>\n      <td>7</td>\n      <td>1</td>\n      <td>2</td>\n      <td>1</td>\n      <td>7</td>\n      <td>5</td>\n      <td>1</td>\n    </tr>\n    <tr>\n      <th>3</th>\n      <td>4</td>\n      <td>1</td>\n      <td>4</td>\n      <td>21</td>\n      <td>23</td>\n      <td>2</td>\n      <td>7</td>\n      <td>1</td>\n      <td>2</td>\n      <td>1</td>\n      <td>7</td>\n      <td>6</td>\n      <td>1</td>\n    </tr>\n    <tr>\n      <th>4</th>\n      <td>5</td>\n      <td>1</td>\n      <td>5</td>\n      <td>21</td>\n      <td>24</td>\n      <td>2</td>\n      <td>7</td>\n      <td>1</td>\n      <td>2</td>\n      <td>1</td>\n      <td>6</td>\n      <td>6</td>\n      <td>1</td>\n    </tr>\n    <tr>\n      <th>5</th>\n      <td>6</td>\n      <td>1</td>\n      <td>6</td>\n      <td>21</td>\n      <td>25</td>\n      <td>2</td>\n      <td>7</td>\n      <td>1</td>\n      <td>2</td>\n      <td>1</td>\n      <td>6</td>\n      <td>5</td>\n      <td>0</td>\n    </tr>\n    <tr>\n      <th>6</th>\n      <td>7</td>\n      <td>1</td>\n      <td>7</td>\n      <td>21</td>\n      <td>30</td>\n      <td>2</td>\n      <td>7</td>\n      <td>1</td>\n      <td>2</td>\n      <td>1</td>\n      <td>6</td>\n      <td>5</td>\n      <td>0</td>\n    </tr>\n    <tr>\n      <th>7</th>\n      <td>8</td>\n      <td>1</td>\n      <td>8</td>\n      <td>21</td>\n      <td>27</td>\n      <td>2</td>\n      <td>7</td>\n      <td>1</td>\n      <td>2</td>\n      <td>0</td>\n      <td>6</td>\n      <td>7</td>\n      <td>0</td>\n    </tr>\n    <tr>\n      <th>8</th>\n      <td>9</td>\n      <td>1</td>\n      <td>9</td>\n      <td>21</td>\n      <td>28</td>\n      <td>2</td>\n      <td>7</td>\n      <td>1</td>\n      <td>2</td>\n      <td>1</td>\n      <td>7</td>\n      <td>7</td>\n      <td>1</td>\n    </tr>\n    <tr>\n      <th>9</th>\n      <td>10</td>\n      <td>1</td>\n      <td>10</td>\n      <td>21</td>\n      <td>24</td>\n      <td>2</td>\n      <td>7</td>\n      <td>1</td>\n      <td>2</td>\n      <td>1</td>\n      <td>6</td>\n      <td>6</td>\n      <td>0</td>\n    </tr>\n  </tbody>\n</table>\n</div>"
     },
     "metadata": {},
     "execution_count": 94
    }
   ],
   "source": [
    "pima.head(10)"
   ]
  },
  {
   "cell_type": "code",
   "execution_count": 95,
   "metadata": {},
   "outputs": [],
   "source": [
    "# Create Decision Tree classifer object\n",
    "clf = DecisionTreeClassifier(criterion=\"entropy\")\n",
    "\n",
    "# Train Decision Tree Classifer\n",
    "clf = clf.fit(dados_treino, resultados_treino)\n",
    "\n",
    "#Predict the response for test dataset\n",
    "predicted_test = clf.predict(dados_teste)\n",
    "\n"
   ]
  },
  {
   "cell_type": "code",
   "execution_count": 96,
   "metadata": {},
   "outputs": [
    {
     "output_type": "stream",
     "name": "stdout",
     "text": [
      "Accuracy: 0.7883850437549722\n"
     ]
    }
   ],
   "source": [
    "# Model Accuracy, how often is the classifier correct?\n",
    "print(\"Accuracy:\",metrics.accuracy_score(resultados_teste, predicted_test))\n"
   ]
  },
  {
   "cell_type": "code",
   "execution_count": 97,
   "metadata": {},
   "outputs": [
    {
     "output_type": "stream",
     "name": "stdout",
     "text": [
      "Accuracy: 0.8321400159108989\n"
     ]
    }
   ],
   "source": [
    "#comparamos com o naive bayes\n",
    "#Import Gaussian Naive Bayes model\n",
    "from sklearn.naive_bayes import GaussianNB\n",
    "\n",
    "#Create a Gaussian Classifier\n",
    "gnb = GaussianNB()\n",
    "\n",
    "#Train the model using the training sets\n",
    "gnb.fit(dados_treino,resultados_treino)\n",
    "\n",
    "#Predict the response for test dataset\n",
    "predicted3 = gnb.predict(dados_teste)\n",
    "print(\"Accuracy:\",metrics.accuracy_score(resultados_teste, predicted3))"
   ]
  },
  {
   "cell_type": "code",
   "execution_count": 98,
   "metadata": {},
   "outputs": [
    {
     "output_type": "stream",
     "name": "stdout",
     "text": [
      "Accuracy: 0.8456642800318218\n"
     ]
    }
   ],
   "source": [
    "#comparar com o random Forest\n",
    "\n",
    "from sklearn.ensemble import RandomForestClassifier # Import Decision Tree Classifier\n",
    "# Create Decision Tree classifer object\n",
    "clf2 = RandomForestClassifier()\n",
    "\n",
    "# Train Decision Tree Classifer\n",
    "clf2 = clf2.fit(dados_treino, resultados_treino)\n",
    "\n",
    "#Predict the response for test dataset\n",
    "predicted2 = clf2.predict(dados_teste)\n",
    "\n",
    "# Model Accuracy, how often is the classifier correct?\n",
    "print(\"Accuracy:\",metrics.accuracy_score(resultados_teste, predicted2))"
   ]
  }
 ]
}