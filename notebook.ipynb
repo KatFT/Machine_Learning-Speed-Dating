{
 "metadata": {
  "language_info": {
   "codemirror_mode": {
    "name": "ipython",
    "version": 3
   },
   "file_extension": ".py",
   "mimetype": "text/x-python",
   "name": "python",
   "nbconvert_exporter": "python",
   "pygments_lexer": "ipython3",
   "version": "3.6.9"
  },
  "orig_nbformat": 2,
  "kernelspec": {
   "name": "python369jvsc74a57bd031f2aee4e71d21fbe5cf8b01ff0e069b9275f58929596ceb00d14d90e3e16cd6",
   "display_name": "Python 3.6.9 64-bit"
  },
  "metadata": {
   "interpreter": {
    "hash": "31f2aee4e71d21fbe5cf8b01ff0e069b9275f58929596ceb00d14d90e3e16cd6"
   }
  }
 },
 "nbformat": 4,
 "nbformat_minor": 2,
 "cells": [
  {
   "cell_type": "code",
   "execution_count": 226,
   "metadata": {},
   "outputs": [
    {
     "output_type": "execute_result",
     "data": {
      "text/plain": [
       "   Unnamed: 0   id  partner   age  age_o  goal  date  go_out  int_corr  \\\n",
       "0           1  1.0        1  21.0   27.0   2.0   7.0     1.0      0.14   \n",
       "1           2  1.0        2  21.0   22.0   2.0   7.0     1.0      0.54   \n",
       "2           3  1.0        3  21.0   22.0   2.0   7.0     1.0      0.16   \n",
       "3           4  1.0        4  21.0   23.0   2.0   7.0     1.0      0.61   \n",
       "4           5  1.0        5  21.0   24.0   2.0   7.0     1.0      0.21   \n",
       "5           6  1.0        6  21.0   25.0   2.0   7.0     1.0      0.25   \n",
       "6           7  1.0        7  21.0   30.0   2.0   7.0     1.0      0.34   \n",
       "7           8  1.0        8  21.0   27.0   2.0   7.0     1.0      0.50   \n",
       "8           9  1.0        9  21.0   28.0   2.0   7.0     1.0      0.28   \n",
       "9          10  1.0       10  21.0   24.0   2.0   7.0     1.0     -0.36   \n",
       "\n",
       "   length  met  like  prob  match  \n",
       "0     2.0  1.0   7.0   6.0      0  \n",
       "1     2.0  1.0   7.0   5.0      0  \n",
       "2     2.0  1.0   7.0   NaN      1  \n",
       "3     2.0  1.0   7.0   6.0      1  \n",
       "4     2.0  1.0   6.0   6.0      1  \n",
       "5     2.0  1.0   6.0   5.0      0  \n",
       "6     2.0  1.0   6.0   5.0      0  \n",
       "7     2.0  NaN   6.0   7.0      0  \n",
       "8     2.0  1.0   7.0   7.0      1  \n",
       "9     2.0  1.0   6.0   6.0      0  "
      ],
      "text/html": "<div>\n<style scoped>\n    .dataframe tbody tr th:only-of-type {\n        vertical-align: middle;\n    }\n\n    .dataframe tbody tr th {\n        vertical-align: top;\n    }\n\n    .dataframe thead th {\n        text-align: right;\n    }\n</style>\n<table border=\"1\" class=\"dataframe\">\n  <thead>\n    <tr style=\"text-align: right;\">\n      <th></th>\n      <th>Unnamed: 0</th>\n      <th>id</th>\n      <th>partner</th>\n      <th>age</th>\n      <th>age_o</th>\n      <th>goal</th>\n      <th>date</th>\n      <th>go_out</th>\n      <th>int_corr</th>\n      <th>length</th>\n      <th>met</th>\n      <th>like</th>\n      <th>prob</th>\n      <th>match</th>\n    </tr>\n  </thead>\n  <tbody>\n    <tr>\n      <th>0</th>\n      <td>1</td>\n      <td>1.0</td>\n      <td>1</td>\n      <td>21.0</td>\n      <td>27.0</td>\n      <td>2.0</td>\n      <td>7.0</td>\n      <td>1.0</td>\n      <td>0.14</td>\n      <td>2.0</td>\n      <td>1.0</td>\n      <td>7.0</td>\n      <td>6.0</td>\n      <td>0</td>\n    </tr>\n    <tr>\n      <th>1</th>\n      <td>2</td>\n      <td>1.0</td>\n      <td>2</td>\n      <td>21.0</td>\n      <td>22.0</td>\n      <td>2.0</td>\n      <td>7.0</td>\n      <td>1.0</td>\n      <td>0.54</td>\n      <td>2.0</td>\n      <td>1.0</td>\n      <td>7.0</td>\n      <td>5.0</td>\n      <td>0</td>\n    </tr>\n    <tr>\n      <th>2</th>\n      <td>3</td>\n      <td>1.0</td>\n      <td>3</td>\n      <td>21.0</td>\n      <td>22.0</td>\n      <td>2.0</td>\n      <td>7.0</td>\n      <td>1.0</td>\n      <td>0.16</td>\n      <td>2.0</td>\n      <td>1.0</td>\n      <td>7.0</td>\n      <td>NaN</td>\n      <td>1</td>\n    </tr>\n    <tr>\n      <th>3</th>\n      <td>4</td>\n      <td>1.0</td>\n      <td>4</td>\n      <td>21.0</td>\n      <td>23.0</td>\n      <td>2.0</td>\n      <td>7.0</td>\n      <td>1.0</td>\n      <td>0.61</td>\n      <td>2.0</td>\n      <td>1.0</td>\n      <td>7.0</td>\n      <td>6.0</td>\n      <td>1</td>\n    </tr>\n    <tr>\n      <th>4</th>\n      <td>5</td>\n      <td>1.0</td>\n      <td>5</td>\n      <td>21.0</td>\n      <td>24.0</td>\n      <td>2.0</td>\n      <td>7.0</td>\n      <td>1.0</td>\n      <td>0.21</td>\n      <td>2.0</td>\n      <td>1.0</td>\n      <td>6.0</td>\n      <td>6.0</td>\n      <td>1</td>\n    </tr>\n    <tr>\n      <th>5</th>\n      <td>6</td>\n      <td>1.0</td>\n      <td>6</td>\n      <td>21.0</td>\n      <td>25.0</td>\n      <td>2.0</td>\n      <td>7.0</td>\n      <td>1.0</td>\n      <td>0.25</td>\n      <td>2.0</td>\n      <td>1.0</td>\n      <td>6.0</td>\n      <td>5.0</td>\n      <td>0</td>\n    </tr>\n    <tr>\n      <th>6</th>\n      <td>7</td>\n      <td>1.0</td>\n      <td>7</td>\n      <td>21.0</td>\n      <td>30.0</td>\n      <td>2.0</td>\n      <td>7.0</td>\n      <td>1.0</td>\n      <td>0.34</td>\n      <td>2.0</td>\n      <td>1.0</td>\n      <td>6.0</td>\n      <td>5.0</td>\n      <td>0</td>\n    </tr>\n    <tr>\n      <th>7</th>\n      <td>8</td>\n      <td>1.0</td>\n      <td>8</td>\n      <td>21.0</td>\n      <td>27.0</td>\n      <td>2.0</td>\n      <td>7.0</td>\n      <td>1.0</td>\n      <td>0.50</td>\n      <td>2.0</td>\n      <td>NaN</td>\n      <td>6.0</td>\n      <td>7.0</td>\n      <td>0</td>\n    </tr>\n    <tr>\n      <th>8</th>\n      <td>9</td>\n      <td>1.0</td>\n      <td>9</td>\n      <td>21.0</td>\n      <td>28.0</td>\n      <td>2.0</td>\n      <td>7.0</td>\n      <td>1.0</td>\n      <td>0.28</td>\n      <td>2.0</td>\n      <td>1.0</td>\n      <td>7.0</td>\n      <td>7.0</td>\n      <td>1</td>\n    </tr>\n    <tr>\n      <th>9</th>\n      <td>10</td>\n      <td>1.0</td>\n      <td>10</td>\n      <td>21.0</td>\n      <td>24.0</td>\n      <td>2.0</td>\n      <td>7.0</td>\n      <td>1.0</td>\n      <td>-0.36</td>\n      <td>2.0</td>\n      <td>1.0</td>\n      <td>6.0</td>\n      <td>6.0</td>\n      <td>0</td>\n    </tr>\n  </tbody>\n</table>\n</div>"
     },
     "metadata": {},
     "execution_count": 226
    }
   ],
   "source": [
    "import pandas as pd\n",
    "import numpy as np\n",
    "import sklearn \n",
    "\n",
    "from sklearn.model_selection import train_test_split\n",
    "from sklearn import metrics\n",
    "from sklearn.tree import DecisionTreeClassifier # Import Decision Tree Classifier\n",
    "from sklearn.metrics import mean_absolute_error as mae\n",
    "from sklearn.metrics import mean_squared_error as mse\n",
    "from sklearn.metrics import confusion_matrix\n",
    "from sklearn.metrics import classification_report\n",
    "\n",
    "# load dataset\n",
    "pima = pd.read_csv(\"speedDating_trab.csv\")\n",
    "\n",
    "pima.head(10)\n"
   ]
  },
  {
   "cell_type": "code",
   "execution_count": 227,
   "metadata": {},
   "outputs": [
    {
     "output_type": "execute_result",
     "data": {
      "text/plain": [
       "      Unnamed: 0    id  partner   age  age_o  goal  date  go_out  int_corr  \\\n",
       "0              1   1.0        1  21.0   27.0   2.0   7.0     1.0      0.14   \n",
       "1              2   1.0        2  21.0   22.0   2.0   7.0     1.0      0.54   \n",
       "2              3   1.0        3  21.0   22.0   2.0   7.0     1.0      0.16   \n",
       "3              4   1.0        4  21.0   23.0   2.0   7.0     1.0      0.61   \n",
       "4              5   1.0        5  21.0   24.0   2.0   7.0     1.0      0.21   \n",
       "...          ...   ...      ...   ...    ...   ...   ...     ...       ...   \n",
       "8373        8374  22.0       18  25.0   26.0   1.0   2.0     1.0      0.64   \n",
       "8374        8375  22.0       19  25.0   24.0   1.0   2.0     1.0      0.71   \n",
       "8375        8376  22.0       20  25.0   29.0   1.0   2.0     1.0     -0.46   \n",
       "8376        8377  22.0       21  25.0   22.0   1.0   2.0     1.0      0.62   \n",
       "8377        8378   NaN       22  25.0   22.0   1.0   2.0     1.0      0.01   \n",
       "\n",
       "      length  met  like  prob  match  \n",
       "0        2.0  1.0   7.0   6.0      0  \n",
       "1        2.0  1.0   7.0   5.0      0  \n",
       "2        2.0  1.0   7.0   NaN      1  \n",
       "3        2.0  1.0   7.0   6.0      1  \n",
       "4        2.0  1.0   6.0   6.0      1  \n",
       "...      ...  ...   ...   ...    ...  \n",
       "8373     1.0  0.0   2.0   5.0      0  \n",
       "8374     1.0  0.0   4.0   4.0      0  \n",
       "8375     1.0  0.0   6.0   5.0      0  \n",
       "8376     1.0  0.0   5.0   5.0      0  \n",
       "8377     1.0  0.0   4.0   5.0      0  \n",
       "\n",
       "[8378 rows x 14 columns]"
      ],
      "text/html": "<div>\n<style scoped>\n    .dataframe tbody tr th:only-of-type {\n        vertical-align: middle;\n    }\n\n    .dataframe tbody tr th {\n        vertical-align: top;\n    }\n\n    .dataframe thead th {\n        text-align: right;\n    }\n</style>\n<table border=\"1\" class=\"dataframe\">\n  <thead>\n    <tr style=\"text-align: right;\">\n      <th></th>\n      <th>Unnamed: 0</th>\n      <th>id</th>\n      <th>partner</th>\n      <th>age</th>\n      <th>age_o</th>\n      <th>goal</th>\n      <th>date</th>\n      <th>go_out</th>\n      <th>int_corr</th>\n      <th>length</th>\n      <th>met</th>\n      <th>like</th>\n      <th>prob</th>\n      <th>match</th>\n    </tr>\n  </thead>\n  <tbody>\n    <tr>\n      <th>0</th>\n      <td>1</td>\n      <td>1.0</td>\n      <td>1</td>\n      <td>21.0</td>\n      <td>27.0</td>\n      <td>2.0</td>\n      <td>7.0</td>\n      <td>1.0</td>\n      <td>0.14</td>\n      <td>2.0</td>\n      <td>1.0</td>\n      <td>7.0</td>\n      <td>6.0</td>\n      <td>0</td>\n    </tr>\n    <tr>\n      <th>1</th>\n      <td>2</td>\n      <td>1.0</td>\n      <td>2</td>\n      <td>21.0</td>\n      <td>22.0</td>\n      <td>2.0</td>\n      <td>7.0</td>\n      <td>1.0</td>\n      <td>0.54</td>\n      <td>2.0</td>\n      <td>1.0</td>\n      <td>7.0</td>\n      <td>5.0</td>\n      <td>0</td>\n    </tr>\n    <tr>\n      <th>2</th>\n      <td>3</td>\n      <td>1.0</td>\n      <td>3</td>\n      <td>21.0</td>\n      <td>22.0</td>\n      <td>2.0</td>\n      <td>7.0</td>\n      <td>1.0</td>\n      <td>0.16</td>\n      <td>2.0</td>\n      <td>1.0</td>\n      <td>7.0</td>\n      <td>NaN</td>\n      <td>1</td>\n    </tr>\n    <tr>\n      <th>3</th>\n      <td>4</td>\n      <td>1.0</td>\n      <td>4</td>\n      <td>21.0</td>\n      <td>23.0</td>\n      <td>2.0</td>\n      <td>7.0</td>\n      <td>1.0</td>\n      <td>0.61</td>\n      <td>2.0</td>\n      <td>1.0</td>\n      <td>7.0</td>\n      <td>6.0</td>\n      <td>1</td>\n    </tr>\n    <tr>\n      <th>4</th>\n      <td>5</td>\n      <td>1.0</td>\n      <td>5</td>\n      <td>21.0</td>\n      <td>24.0</td>\n      <td>2.0</td>\n      <td>7.0</td>\n      <td>1.0</td>\n      <td>0.21</td>\n      <td>2.0</td>\n      <td>1.0</td>\n      <td>6.0</td>\n      <td>6.0</td>\n      <td>1</td>\n    </tr>\n    <tr>\n      <th>...</th>\n      <td>...</td>\n      <td>...</td>\n      <td>...</td>\n      <td>...</td>\n      <td>...</td>\n      <td>...</td>\n      <td>...</td>\n      <td>...</td>\n      <td>...</td>\n      <td>...</td>\n      <td>...</td>\n      <td>...</td>\n      <td>...</td>\n      <td>...</td>\n    </tr>\n    <tr>\n      <th>8373</th>\n      <td>8374</td>\n      <td>22.0</td>\n      <td>18</td>\n      <td>25.0</td>\n      <td>26.0</td>\n      <td>1.0</td>\n      <td>2.0</td>\n      <td>1.0</td>\n      <td>0.64</td>\n      <td>1.0</td>\n      <td>0.0</td>\n      <td>2.0</td>\n      <td>5.0</td>\n      <td>0</td>\n    </tr>\n    <tr>\n      <th>8374</th>\n      <td>8375</td>\n      <td>22.0</td>\n      <td>19</td>\n      <td>25.0</td>\n      <td>24.0</td>\n      <td>1.0</td>\n      <td>2.0</td>\n      <td>1.0</td>\n      <td>0.71</td>\n      <td>1.0</td>\n      <td>0.0</td>\n      <td>4.0</td>\n      <td>4.0</td>\n      <td>0</td>\n    </tr>\n    <tr>\n      <th>8375</th>\n      <td>8376</td>\n      <td>22.0</td>\n      <td>20</td>\n      <td>25.0</td>\n      <td>29.0</td>\n      <td>1.0</td>\n      <td>2.0</td>\n      <td>1.0</td>\n      <td>-0.46</td>\n      <td>1.0</td>\n      <td>0.0</td>\n      <td>6.0</td>\n      <td>5.0</td>\n      <td>0</td>\n    </tr>\n    <tr>\n      <th>8376</th>\n      <td>8377</td>\n      <td>22.0</td>\n      <td>21</td>\n      <td>25.0</td>\n      <td>22.0</td>\n      <td>1.0</td>\n      <td>2.0</td>\n      <td>1.0</td>\n      <td>0.62</td>\n      <td>1.0</td>\n      <td>0.0</td>\n      <td>5.0</td>\n      <td>5.0</td>\n      <td>0</td>\n    </tr>\n    <tr>\n      <th>8377</th>\n      <td>8378</td>\n      <td>NaN</td>\n      <td>22</td>\n      <td>25.0</td>\n      <td>22.0</td>\n      <td>1.0</td>\n      <td>2.0</td>\n      <td>1.0</td>\n      <td>0.01</td>\n      <td>1.0</td>\n      <td>0.0</td>\n      <td>4.0</td>\n      <td>5.0</td>\n      <td>0</td>\n    </tr>\n  </tbody>\n</table>\n<p>8378 rows × 14 columns</p>\n</div>"
     },
     "metadata": {},
     "execution_count": 227
    }
   ],
   "source": [
    "pima"
   ]
  },
  {
   "cell_type": "code",
   "execution_count": 228,
   "metadata": {},
   "outputs": [
    {
     "output_type": "execute_result",
     "data": {
      "text/plain": [
       "Unnamed: 0      0\n",
       "id              1\n",
       "partner         0\n",
       "age            95\n",
       "age_o         104\n",
       "goal           79\n",
       "date           97\n",
       "go_out         79\n",
       "int_corr      158\n",
       "length        915\n",
       "met           375\n",
       "like          240\n",
       "prob          309\n",
       "match           0\n",
       "dtype: int64"
      ]
     },
     "metadata": {},
     "execution_count": 228
    }
   ],
   "source": [
    "pima.isnull().sum()"
   ]
  },
  {
   "cell_type": "code",
   "execution_count": 229,
   "metadata": {},
   "outputs": [],
   "source": [
    "#tds os nans de tds as colunas menos o int_corr vamos preencher com a moda\n",
    "#o int_corr preenchemos com a media\n",
    "\n",
    "gf= pima['prob'].mode()[0]\n",
    "pima['prob'].fillna(value=gf,inplace=True)\n",
    "\n",
    "gf= pima['like'].mode()[0]\n",
    "pima['like'].fillna(value=gf,inplace=True)\n",
    "\n",
    "gf= pima['met'].mode()[0]\n",
    "pima['met'].fillna(value=gf,inplace=True)\n",
    "\n",
    "gf= pima['length'].mode()[0]\n",
    "pima['length'].fillna(value=gf,inplace=True)\n",
    "\n",
    "gf= pima['int_corr'].mean()\n",
    "pima['int_corr'].fillna(value=gf,inplace=True)\n",
    "\n",
    "gf= pima['go_out'].mode()[0]\n",
    "pima['go_out'].fillna(value=gf,inplace=True)\n",
    "\n",
    "gf= pima['date'].mode()[0]\n",
    "pima['date'].fillna(value=gf,inplace=True)\n",
    "\n",
    "gf= pima['goal'].mode()[0]\n",
    "pima['goal'].fillna(value=gf,inplace=True)\n",
    "\n",
    "gf= pima['age_o'].mode()[0]\n",
    "pima['age_o'].fillna(value=gf,inplace=True)\n",
    "\n",
    "gf= pima['age'].mode()[0]\n",
    "pima['age'].fillna(value=gf,inplace=True)\n",
    "\n",
    "#gf= pima['id'].mode()[0]\n",
    "#pima['id'].fillna(value=gf,inplace=True)\n",
    "pima.dropna(subset=['id'],inplace=True )\n",
    "\n",
    "\n"
   ]
  },
  {
   "cell_type": "code",
   "execution_count": 230,
   "metadata": {},
   "outputs": [
    {
     "output_type": "execute_result",
     "data": {
      "text/plain": [
       "      Unnamed: 0    id  partner   age  age_o  goal  date  go_out  int_corr  \\\n",
       "0              1   1.0        1  21.0   27.0   2.0   7.0     1.0      0.14   \n",
       "1              2   1.0        2  21.0   22.0   2.0   7.0     1.0      0.54   \n",
       "2              3   1.0        3  21.0   22.0   2.0   7.0     1.0      0.16   \n",
       "3              4   1.0        4  21.0   23.0   2.0   7.0     1.0      0.61   \n",
       "4              5   1.0        5  21.0   24.0   2.0   7.0     1.0      0.21   \n",
       "...          ...   ...      ...   ...    ...   ...   ...     ...       ...   \n",
       "8372        8373  22.0       17  25.0   24.0   1.0   2.0     1.0      0.28   \n",
       "8373        8374  22.0       18  25.0   26.0   1.0   2.0     1.0      0.64   \n",
       "8374        8375  22.0       19  25.0   24.0   1.0   2.0     1.0      0.71   \n",
       "8375        8376  22.0       20  25.0   29.0   1.0   2.0     1.0     -0.46   \n",
       "8376        8377  22.0       21  25.0   22.0   1.0   2.0     1.0      0.62   \n",
       "\n",
       "      length  met  like  prob  match  \n",
       "0        2.0  1.0   7.0   6.0      0  \n",
       "1        2.0  1.0   7.0   5.0      0  \n",
       "2        2.0  1.0   7.0   5.0      1  \n",
       "3        2.0  1.0   7.0   6.0      1  \n",
       "4        2.0  1.0   6.0   6.0      1  \n",
       "...      ...  ...   ...   ...    ...  \n",
       "8372     1.0  0.0   4.0   4.0      0  \n",
       "8373     1.0  0.0   2.0   5.0      0  \n",
       "8374     1.0  0.0   4.0   4.0      0  \n",
       "8375     1.0  0.0   6.0   5.0      0  \n",
       "8376     1.0  0.0   5.0   5.0      0  \n",
       "\n",
       "[8377 rows x 14 columns]"
      ],
      "text/html": "<div>\n<style scoped>\n    .dataframe tbody tr th:only-of-type {\n        vertical-align: middle;\n    }\n\n    .dataframe tbody tr th {\n        vertical-align: top;\n    }\n\n    .dataframe thead th {\n        text-align: right;\n    }\n</style>\n<table border=\"1\" class=\"dataframe\">\n  <thead>\n    <tr style=\"text-align: right;\">\n      <th></th>\n      <th>Unnamed: 0</th>\n      <th>id</th>\n      <th>partner</th>\n      <th>age</th>\n      <th>age_o</th>\n      <th>goal</th>\n      <th>date</th>\n      <th>go_out</th>\n      <th>int_corr</th>\n      <th>length</th>\n      <th>met</th>\n      <th>like</th>\n      <th>prob</th>\n      <th>match</th>\n    </tr>\n  </thead>\n  <tbody>\n    <tr>\n      <th>0</th>\n      <td>1</td>\n      <td>1.0</td>\n      <td>1</td>\n      <td>21.0</td>\n      <td>27.0</td>\n      <td>2.0</td>\n      <td>7.0</td>\n      <td>1.0</td>\n      <td>0.14</td>\n      <td>2.0</td>\n      <td>1.0</td>\n      <td>7.0</td>\n      <td>6.0</td>\n      <td>0</td>\n    </tr>\n    <tr>\n      <th>1</th>\n      <td>2</td>\n      <td>1.0</td>\n      <td>2</td>\n      <td>21.0</td>\n      <td>22.0</td>\n      <td>2.0</td>\n      <td>7.0</td>\n      <td>1.0</td>\n      <td>0.54</td>\n      <td>2.0</td>\n      <td>1.0</td>\n      <td>7.0</td>\n      <td>5.0</td>\n      <td>0</td>\n    </tr>\n    <tr>\n      <th>2</th>\n      <td>3</td>\n      <td>1.0</td>\n      <td>3</td>\n      <td>21.0</td>\n      <td>22.0</td>\n      <td>2.0</td>\n      <td>7.0</td>\n      <td>1.0</td>\n      <td>0.16</td>\n      <td>2.0</td>\n      <td>1.0</td>\n      <td>7.0</td>\n      <td>5.0</td>\n      <td>1</td>\n    </tr>\n    <tr>\n      <th>3</th>\n      <td>4</td>\n      <td>1.0</td>\n      <td>4</td>\n      <td>21.0</td>\n      <td>23.0</td>\n      <td>2.0</td>\n      <td>7.0</td>\n      <td>1.0</td>\n      <td>0.61</td>\n      <td>2.0</td>\n      <td>1.0</td>\n      <td>7.0</td>\n      <td>6.0</td>\n      <td>1</td>\n    </tr>\n    <tr>\n      <th>4</th>\n      <td>5</td>\n      <td>1.0</td>\n      <td>5</td>\n      <td>21.0</td>\n      <td>24.0</td>\n      <td>2.0</td>\n      <td>7.0</td>\n      <td>1.0</td>\n      <td>0.21</td>\n      <td>2.0</td>\n      <td>1.0</td>\n      <td>6.0</td>\n      <td>6.0</td>\n      <td>1</td>\n    </tr>\n    <tr>\n      <th>...</th>\n      <td>...</td>\n      <td>...</td>\n      <td>...</td>\n      <td>...</td>\n      <td>...</td>\n      <td>...</td>\n      <td>...</td>\n      <td>...</td>\n      <td>...</td>\n      <td>...</td>\n      <td>...</td>\n      <td>...</td>\n      <td>...</td>\n      <td>...</td>\n    </tr>\n    <tr>\n      <th>8372</th>\n      <td>8373</td>\n      <td>22.0</td>\n      <td>17</td>\n      <td>25.0</td>\n      <td>24.0</td>\n      <td>1.0</td>\n      <td>2.0</td>\n      <td>1.0</td>\n      <td>0.28</td>\n      <td>1.0</td>\n      <td>0.0</td>\n      <td>4.0</td>\n      <td>4.0</td>\n      <td>0</td>\n    </tr>\n    <tr>\n      <th>8373</th>\n      <td>8374</td>\n      <td>22.0</td>\n      <td>18</td>\n      <td>25.0</td>\n      <td>26.0</td>\n      <td>1.0</td>\n      <td>2.0</td>\n      <td>1.0</td>\n      <td>0.64</td>\n      <td>1.0</td>\n      <td>0.0</td>\n      <td>2.0</td>\n      <td>5.0</td>\n      <td>0</td>\n    </tr>\n    <tr>\n      <th>8374</th>\n      <td>8375</td>\n      <td>22.0</td>\n      <td>19</td>\n      <td>25.0</td>\n      <td>24.0</td>\n      <td>1.0</td>\n      <td>2.0</td>\n      <td>1.0</td>\n      <td>0.71</td>\n      <td>1.0</td>\n      <td>0.0</td>\n      <td>4.0</td>\n      <td>4.0</td>\n      <td>0</td>\n    </tr>\n    <tr>\n      <th>8375</th>\n      <td>8376</td>\n      <td>22.0</td>\n      <td>20</td>\n      <td>25.0</td>\n      <td>29.0</td>\n      <td>1.0</td>\n      <td>2.0</td>\n      <td>1.0</td>\n      <td>-0.46</td>\n      <td>1.0</td>\n      <td>0.0</td>\n      <td>6.0</td>\n      <td>5.0</td>\n      <td>0</td>\n    </tr>\n    <tr>\n      <th>8376</th>\n      <td>8377</td>\n      <td>22.0</td>\n      <td>21</td>\n      <td>25.0</td>\n      <td>22.0</td>\n      <td>1.0</td>\n      <td>2.0</td>\n      <td>1.0</td>\n      <td>0.62</td>\n      <td>1.0</td>\n      <td>0.0</td>\n      <td>5.0</td>\n      <td>5.0</td>\n      <td>0</td>\n    </tr>\n  </tbody>\n</table>\n<p>8377 rows × 14 columns</p>\n</div>"
     },
     "metadata": {},
     "execution_count": 230
    }
   ],
   "source": [
    "pima"
   ]
  },
  {
   "cell_type": "code",
   "execution_count": 231,
   "metadata": {},
   "outputs": [
    {
     "output_type": "stream",
     "name": "stdout",
     "text": [
      "<class 'pandas.core.frame.DataFrame'>\nInt64Index: 8377 entries, 0 to 8376\nData columns (total 14 columns):\n #   Column      Non-Null Count  Dtype  \n---  ------      --------------  -----  \n 0   Unnamed: 0  8377 non-null   int64  \n 1   id          8377 non-null   int64  \n 2   partner     8377 non-null   int64  \n 3   age         8377 non-null   int64  \n 4   age_o       8377 non-null   int64  \n 5   goal        8377 non-null   int64  \n 6   date        8377 non-null   int64  \n 7   go_out      8377 non-null   int64  \n 8   int_corr    8377 non-null   float64\n 9   length      8377 non-null   int64  \n 10  met         8377 non-null   int64  \n 11  like        8377 non-null   int64  \n 12  prob        8377 non-null   int64  \n 13  match       8377 non-null   int64  \ndtypes: float64(1), int64(13)\nmemory usage: 981.7 KB\n"
     ]
    }
   ],
   "source": [
    "#convertemos de float para int\n",
    "pima[['prob','like','met','length','go_out','date','goal','age_o','age','id']]=  pima[['prob','like','met','length','go_out','date','goal','age_o','age','id']].astype(int)\n",
    "\n",
    "pima.info()\n"
   ]
  },
  {
   "cell_type": "code",
   "execution_count": 232,
   "metadata": {},
   "outputs": [
    {
     "output_type": "stream",
     "name": "stdout",
     "text": [
      "% 1's: 0.16473677927659067\n% 0's: 0.8352632207234093\n"
     ]
    }
   ],
   "source": [
    "#numero de 1's\n",
    "print(\"% 1's:\",pima['match'].mean())\n",
    "print(\"% 0's:\", 1-pima['match'].mean())\n"
   ]
  },
  {
   "cell_type": "code",
   "execution_count": 233,
   "metadata": {},
   "outputs": [
    {
     "output_type": "execute_result",
     "data": {
      "text/plain": [
       "Unnamed: 0    0\n",
       "id            0\n",
       "partner       0\n",
       "age           0\n",
       "age_o         0\n",
       "goal          0\n",
       "date          0\n",
       "go_out        0\n",
       "int_corr      0\n",
       "length        0\n",
       "met           0\n",
       "like          0\n",
       "prob          0\n",
       "match         0\n",
       "dtype: int64"
      ]
     },
     "metadata": {},
     "execution_count": 233
    }
   ],
   "source": [
    "pima.isnull().sum()"
   ]
  },
  {
   "cell_type": "code",
   "execution_count": 234,
   "metadata": {},
   "outputs": [
    {
     "output_type": "execute_result",
     "data": {
      "text/plain": [
       "   Unnamed: 0  id  partner  age  age_o  goal  date  go_out  int_corr  length  \\\n",
       "0           1   1        1   21     27     2     7       1      0.14       2   \n",
       "1           2   1        2   21     22     2     7       1      0.54       2   \n",
       "2           3   1        3   21     22     2     7       1      0.16       2   \n",
       "3           4   1        4   21     23     2     7       1      0.61       2   \n",
       "4           5   1        5   21     24     2     7       1      0.21       2   \n",
       "5           6   1        6   21     25     2     7       1      0.25       2   \n",
       "6           7   1        7   21     30     2     7       1      0.34       2   \n",
       "7           8   1        8   21     27     2     7       1      0.50       2   \n",
       "8           9   1        9   21     28     2     7       1      0.28       2   \n",
       "9          10   1       10   21     24     2     7       1     -0.36       2   \n",
       "\n",
       "   met  like  prob  match  \n",
       "0    1     7     6      0  \n",
       "1    1     7     5      0  \n",
       "2    1     7     5      1  \n",
       "3    1     7     6      1  \n",
       "4    1     6     6      1  \n",
       "5    1     6     5      0  \n",
       "6    1     6     5      0  \n",
       "7    0     6     7      0  \n",
       "8    1     7     7      1  \n",
       "9    1     6     6      0  "
      ],
      "text/html": "<div>\n<style scoped>\n    .dataframe tbody tr th:only-of-type {\n        vertical-align: middle;\n    }\n\n    .dataframe tbody tr th {\n        vertical-align: top;\n    }\n\n    .dataframe thead th {\n        text-align: right;\n    }\n</style>\n<table border=\"1\" class=\"dataframe\">\n  <thead>\n    <tr style=\"text-align: right;\">\n      <th></th>\n      <th>Unnamed: 0</th>\n      <th>id</th>\n      <th>partner</th>\n      <th>age</th>\n      <th>age_o</th>\n      <th>goal</th>\n      <th>date</th>\n      <th>go_out</th>\n      <th>int_corr</th>\n      <th>length</th>\n      <th>met</th>\n      <th>like</th>\n      <th>prob</th>\n      <th>match</th>\n    </tr>\n  </thead>\n  <tbody>\n    <tr>\n      <th>0</th>\n      <td>1</td>\n      <td>1</td>\n      <td>1</td>\n      <td>21</td>\n      <td>27</td>\n      <td>2</td>\n      <td>7</td>\n      <td>1</td>\n      <td>0.14</td>\n      <td>2</td>\n      <td>1</td>\n      <td>7</td>\n      <td>6</td>\n      <td>0</td>\n    </tr>\n    <tr>\n      <th>1</th>\n      <td>2</td>\n      <td>1</td>\n      <td>2</td>\n      <td>21</td>\n      <td>22</td>\n      <td>2</td>\n      <td>7</td>\n      <td>1</td>\n      <td>0.54</td>\n      <td>2</td>\n      <td>1</td>\n      <td>7</td>\n      <td>5</td>\n      <td>0</td>\n    </tr>\n    <tr>\n      <th>2</th>\n      <td>3</td>\n      <td>1</td>\n      <td>3</td>\n      <td>21</td>\n      <td>22</td>\n      <td>2</td>\n      <td>7</td>\n      <td>1</td>\n      <td>0.16</td>\n      <td>2</td>\n      <td>1</td>\n      <td>7</td>\n      <td>5</td>\n      <td>1</td>\n    </tr>\n    <tr>\n      <th>3</th>\n      <td>4</td>\n      <td>1</td>\n      <td>4</td>\n      <td>21</td>\n      <td>23</td>\n      <td>2</td>\n      <td>7</td>\n      <td>1</td>\n      <td>0.61</td>\n      <td>2</td>\n      <td>1</td>\n      <td>7</td>\n      <td>6</td>\n      <td>1</td>\n    </tr>\n    <tr>\n      <th>4</th>\n      <td>5</td>\n      <td>1</td>\n      <td>5</td>\n      <td>21</td>\n      <td>24</td>\n      <td>2</td>\n      <td>7</td>\n      <td>1</td>\n      <td>0.21</td>\n      <td>2</td>\n      <td>1</td>\n      <td>6</td>\n      <td>6</td>\n      <td>1</td>\n    </tr>\n    <tr>\n      <th>5</th>\n      <td>6</td>\n      <td>1</td>\n      <td>6</td>\n      <td>21</td>\n      <td>25</td>\n      <td>2</td>\n      <td>7</td>\n      <td>1</td>\n      <td>0.25</td>\n      <td>2</td>\n      <td>1</td>\n      <td>6</td>\n      <td>5</td>\n      <td>0</td>\n    </tr>\n    <tr>\n      <th>6</th>\n      <td>7</td>\n      <td>1</td>\n      <td>7</td>\n      <td>21</td>\n      <td>30</td>\n      <td>2</td>\n      <td>7</td>\n      <td>1</td>\n      <td>0.34</td>\n      <td>2</td>\n      <td>1</td>\n      <td>6</td>\n      <td>5</td>\n      <td>0</td>\n    </tr>\n    <tr>\n      <th>7</th>\n      <td>8</td>\n      <td>1</td>\n      <td>8</td>\n      <td>21</td>\n      <td>27</td>\n      <td>2</td>\n      <td>7</td>\n      <td>1</td>\n      <td>0.50</td>\n      <td>2</td>\n      <td>0</td>\n      <td>6</td>\n      <td>7</td>\n      <td>0</td>\n    </tr>\n    <tr>\n      <th>8</th>\n      <td>9</td>\n      <td>1</td>\n      <td>9</td>\n      <td>21</td>\n      <td>28</td>\n      <td>2</td>\n      <td>7</td>\n      <td>1</td>\n      <td>0.28</td>\n      <td>2</td>\n      <td>1</td>\n      <td>7</td>\n      <td>7</td>\n      <td>1</td>\n    </tr>\n    <tr>\n      <th>9</th>\n      <td>10</td>\n      <td>1</td>\n      <td>10</td>\n      <td>21</td>\n      <td>24</td>\n      <td>2</td>\n      <td>7</td>\n      <td>1</td>\n      <td>-0.36</td>\n      <td>2</td>\n      <td>1</td>\n      <td>6</td>\n      <td>6</td>\n      <td>0</td>\n    </tr>\n  </tbody>\n</table>\n</div>"
     },
     "metadata": {},
     "execution_count": 234
    }
   ],
   "source": [
    "pima.head(10)"
   ]
  },
  {
   "cell_type": "code",
   "execution_count": 235,
   "metadata": {},
   "outputs": [],
   "source": [
    "#import tensorflow as tf\n",
    "\n",
    "#np.random.seed(1234)\n",
    "#tf.random.set_random_seed(1234)\n",
    "#dropamos a tabela int_corr pq é irrelevante neste momento\n",
    "pima = pima.drop('int_corr',1)\n",
    "\n",
    "#divisao do cassos em q tem match e os q n tem match\n",
    "resultados = pima['match']\n",
    "dados = pima.drop(['match'],axis=1)\n",
    "\n",
    "\n",
    "# Split dataset into training set and test set (30%/70%)\n",
    "dados_treino, dados_teste, resultados_treino, resultados_teste= train_test_split( dados, resultados, test_size=0.3,random_state=1)"
   ]
  },
  {
   "cell_type": "code",
   "execution_count": 236,
   "metadata": {},
   "outputs": [
    {
     "output_type": "execute_result",
     "data": {
      "text/plain": [
       "   Unnamed: 0  id  partner  age  age_o  goal  date  go_out  length  met  like  \\\n",
       "0           1   1        1   21     27     2     7       1       2    1     7   \n",
       "1           2   1        2   21     22     2     7       1       2    1     7   \n",
       "2           3   1        3   21     22     2     7       1       2    1     7   \n",
       "3           4   1        4   21     23     2     7       1       2    1     7   \n",
       "4           5   1        5   21     24     2     7       1       2    1     6   \n",
       "5           6   1        6   21     25     2     7       1       2    1     6   \n",
       "6           7   1        7   21     30     2     7       1       2    1     6   \n",
       "7           8   1        8   21     27     2     7       1       2    0     6   \n",
       "8           9   1        9   21     28     2     7       1       2    1     7   \n",
       "9          10   1       10   21     24     2     7       1       2    1     6   \n",
       "\n",
       "   prob  match  \n",
       "0     6      0  \n",
       "1     5      0  \n",
       "2     5      1  \n",
       "3     6      1  \n",
       "4     6      1  \n",
       "5     5      0  \n",
       "6     5      0  \n",
       "7     7      0  \n",
       "8     7      1  \n",
       "9     6      0  "
      ],
      "text/html": "<div>\n<style scoped>\n    .dataframe tbody tr th:only-of-type {\n        vertical-align: middle;\n    }\n\n    .dataframe tbody tr th {\n        vertical-align: top;\n    }\n\n    .dataframe thead th {\n        text-align: right;\n    }\n</style>\n<table border=\"1\" class=\"dataframe\">\n  <thead>\n    <tr style=\"text-align: right;\">\n      <th></th>\n      <th>Unnamed: 0</th>\n      <th>id</th>\n      <th>partner</th>\n      <th>age</th>\n      <th>age_o</th>\n      <th>goal</th>\n      <th>date</th>\n      <th>go_out</th>\n      <th>length</th>\n      <th>met</th>\n      <th>like</th>\n      <th>prob</th>\n      <th>match</th>\n    </tr>\n  </thead>\n  <tbody>\n    <tr>\n      <th>0</th>\n      <td>1</td>\n      <td>1</td>\n      <td>1</td>\n      <td>21</td>\n      <td>27</td>\n      <td>2</td>\n      <td>7</td>\n      <td>1</td>\n      <td>2</td>\n      <td>1</td>\n      <td>7</td>\n      <td>6</td>\n      <td>0</td>\n    </tr>\n    <tr>\n      <th>1</th>\n      <td>2</td>\n      <td>1</td>\n      <td>2</td>\n      <td>21</td>\n      <td>22</td>\n      <td>2</td>\n      <td>7</td>\n      <td>1</td>\n      <td>2</td>\n      <td>1</td>\n      <td>7</td>\n      <td>5</td>\n      <td>0</td>\n    </tr>\n    <tr>\n      <th>2</th>\n      <td>3</td>\n      <td>1</td>\n      <td>3</td>\n      <td>21</td>\n      <td>22</td>\n      <td>2</td>\n      <td>7</td>\n      <td>1</td>\n      <td>2</td>\n      <td>1</td>\n      <td>7</td>\n      <td>5</td>\n      <td>1</td>\n    </tr>\n    <tr>\n      <th>3</th>\n      <td>4</td>\n      <td>1</td>\n      <td>4</td>\n      <td>21</td>\n      <td>23</td>\n      <td>2</td>\n      <td>7</td>\n      <td>1</td>\n      <td>2</td>\n      <td>1</td>\n      <td>7</td>\n      <td>6</td>\n      <td>1</td>\n    </tr>\n    <tr>\n      <th>4</th>\n      <td>5</td>\n      <td>1</td>\n      <td>5</td>\n      <td>21</td>\n      <td>24</td>\n      <td>2</td>\n      <td>7</td>\n      <td>1</td>\n      <td>2</td>\n      <td>1</td>\n      <td>6</td>\n      <td>6</td>\n      <td>1</td>\n    </tr>\n    <tr>\n      <th>5</th>\n      <td>6</td>\n      <td>1</td>\n      <td>6</td>\n      <td>21</td>\n      <td>25</td>\n      <td>2</td>\n      <td>7</td>\n      <td>1</td>\n      <td>2</td>\n      <td>1</td>\n      <td>6</td>\n      <td>5</td>\n      <td>0</td>\n    </tr>\n    <tr>\n      <th>6</th>\n      <td>7</td>\n      <td>1</td>\n      <td>7</td>\n      <td>21</td>\n      <td>30</td>\n      <td>2</td>\n      <td>7</td>\n      <td>1</td>\n      <td>2</td>\n      <td>1</td>\n      <td>6</td>\n      <td>5</td>\n      <td>0</td>\n    </tr>\n    <tr>\n      <th>7</th>\n      <td>8</td>\n      <td>1</td>\n      <td>8</td>\n      <td>21</td>\n      <td>27</td>\n      <td>2</td>\n      <td>7</td>\n      <td>1</td>\n      <td>2</td>\n      <td>0</td>\n      <td>6</td>\n      <td>7</td>\n      <td>0</td>\n    </tr>\n    <tr>\n      <th>8</th>\n      <td>9</td>\n      <td>1</td>\n      <td>9</td>\n      <td>21</td>\n      <td>28</td>\n      <td>2</td>\n      <td>7</td>\n      <td>1</td>\n      <td>2</td>\n      <td>1</td>\n      <td>7</td>\n      <td>7</td>\n      <td>1</td>\n    </tr>\n    <tr>\n      <th>9</th>\n      <td>10</td>\n      <td>1</td>\n      <td>10</td>\n      <td>21</td>\n      <td>24</td>\n      <td>2</td>\n      <td>7</td>\n      <td>1</td>\n      <td>2</td>\n      <td>1</td>\n      <td>6</td>\n      <td>6</td>\n      <td>0</td>\n    </tr>\n  </tbody>\n</table>\n</div>"
     },
     "metadata": {},
     "execution_count": 236
    }
   ],
   "source": [
    "pima.head(10)"
   ]
  },
  {
   "cell_type": "code",
   "execution_count": 237,
   "metadata": {},
   "outputs": [
    {
     "output_type": "stream",
     "name": "stdout",
     "text": [
      "Accuracy: 0.7804295942720764\nMean Absolute Error: 0.21957040572792363\nMean Squared Error: 0.21957040572792363\n"
     ]
    }
   ],
   "source": [
    "#CART COM IMPUREZAS DE GINI\n",
    "\n",
    "# Create Decision Tree classifer object\n",
    "clf2 = DecisionTreeClassifier()\n",
    "\n",
    "# Train Decision Tree Classifer\n",
    "clf2 = clf2.fit(dados_treino, resultados_treino)\n",
    "\n",
    "#Predict the response for test dataset\n",
    "predicted_test2= clf2.predict(dados_teste)\n",
    "\n",
    "# Model Accuracy, how often is the classifier correct?\n",
    "print(\"Accuracy:\",metrics.accuracy_score(resultados_teste, predicted_test2))\n",
    "\n",
    "print(\"Mean Absolute Error:\",mae(resultados_teste,clf2.predict(dados_teste)))\n",
    "\n",
    "print(\"Mean Squared Error:\",mse(resultados_teste,clf2.predict(dados_teste)))\n"
   ]
  },
  {
   "cell_type": "code",
   "execution_count": 238,
   "metadata": {},
   "outputs": [
    {
     "output_type": "execute_result",
     "data": {
      "text/plain": [
       "array([[1803,  286],\n",
       "       [ 266,  159]])"
      ]
     },
     "metadata": {},
     "execution_count": 238
    }
   ],
   "source": [
    "#MATRIZ DE CONFUSÃO\n",
    "confusion_matrix(resultados_teste, clf2.predict( dados_teste))"
   ]
  },
  {
   "cell_type": "code",
   "execution_count": 239,
   "metadata": {},
   "outputs": [],
   "source": [
    "#ID3 COM ENTROPIA\n",
    "# Create Decision Tree classifer object\n",
    "clf = DecisionTreeClassifier(criterion=\"entropy\")\n",
    "\n",
    "# Train Decision Tree Classifer\n",
    "clf = clf.fit(dados_treino, resultados_treino)\n",
    "\n",
    "#Predict the response for test dataset\n",
    "predicted_test = clf.predict(dados_teste)\n",
    "\n"
   ]
  },
  {
   "cell_type": "code",
   "execution_count": 240,
   "metadata": {},
   "outputs": [
    {
     "output_type": "stream",
     "name": "stdout",
     "text": [
      "Accuracy: 0.7756563245823389\nMean Absolute Error: 0.2243436754176611\nMean Squared Error: 0.2243436754176611\n"
     ]
    }
   ],
   "source": [
    "# Model Accuracy, how often is the classifier correct?\n",
    "print(\"Accuracy:\",metrics.accuracy_score(resultados_teste, predicted_test))\n",
    "\n",
    "print(\"Mean Absolute Error:\",mae(resultados_teste,clf.predict(dados_teste)))\n",
    "\n",
    "print(\"Mean Squared Error:\",mse(resultados_teste,clf.predict(dados_teste)))"
   ]
  },
  {
   "cell_type": "code",
   "execution_count": 241,
   "metadata": {},
   "outputs": [
    {
     "output_type": "execute_result",
     "data": {
      "text/plain": [
       "array([[1805,  284],\n",
       "       [ 280,  145]])"
      ]
     },
     "metadata": {},
     "execution_count": 241
    }
   ],
   "source": [
    "\n",
    "confusion_matrix(resultados_teste, clf.predict( dados_teste))"
   ]
  },
  {
   "cell_type": "code",
   "execution_count": 242,
   "metadata": {},
   "outputs": [
    {
     "output_type": "stream",
     "name": "stdout",
     "text": [
      "              precision    recall  f1-score   support\n\n           0       0.87      0.86      0.86      2089\n           1       0.34      0.34      0.34       425\n\n    accuracy                           0.78      2514\n   macro avg       0.60      0.60      0.60      2514\nweighted avg       0.78      0.78      0.78      2514\n\n"
     ]
    }
   ],
   "source": [
    "\n",
    "print(classification_report(resultados_teste, clf.predict(dados_teste)))"
   ]
  },
  {
   "cell_type": "code",
   "execution_count": 243,
   "metadata": {},
   "outputs": [
    {
     "output_type": "stream",
     "name": "stdout",
     "text": [
      "Accuracy: 0.8214001591089897\nMean Absolute Error: 0.17859984089101033\nMean Squared Error: 0.17859984089101033\n"
     ]
    }
   ],
   "source": [
    "#NAIVE BAYES\n",
    "#Import Gaussian Naive Bayes model\n",
    "from sklearn.naive_bayes import GaussianNB\n",
    "\n",
    "#Create a Gaussian Classifier\n",
    "gnb = GaussianNB()\n",
    "\n",
    "#Train the model using the training sets\n",
    "gnb.fit(dados_treino,resultados_treino)\n",
    "\n",
    "#Predict the response for test dataset\n",
    "predicted3 = gnb.predict(dados_teste)\n",
    "print(\"Accuracy:\",metrics.accuracy_score(resultados_teste, predicted3))\n",
    "\n",
    "from sklearn.metrics import mean_absolute_error as mae\n",
    "print(\"Mean Absolute Error:\",mae(resultados_teste,gnb.predict(dados_teste)))\n",
    "from sklearn.metrics import mean_squared_error as mse\n",
    "print(\"Mean Squared Error:\",mse(resultados_teste,gnb.predict(dados_teste)))"
   ]
  },
  {
   "cell_type": "code",
   "execution_count": 244,
   "metadata": {},
   "outputs": [
    {
     "output_type": "execute_result",
     "data": {
      "text/plain": [
       "array([[1956,  133],\n",
       "       [ 316,  109]])"
      ]
     },
     "metadata": {},
     "execution_count": 244
    }
   ],
   "source": [
    "\n",
    "confusion_matrix(resultados_teste, gnb.predict( dados_teste))"
   ]
  },
  {
   "cell_type": "code",
   "execution_count": 221,
   "metadata": {},
   "outputs": [
    {
     "output_type": "stream",
     "name": "stdout",
     "text": [
      "              precision    recall  f1-score   support\n\n           0       0.87      0.94      0.91      2109\n           1       0.48      0.27      0.34       405\n\n    accuracy                           0.84      2514\n   macro avg       0.68      0.61      0.62      2514\nweighted avg       0.81      0.84      0.82      2514\n\n"
     ]
    }
   ],
   "source": [
    "\n",
    "print(classification_report(resultados_teste, gnb.predict(dados_teste)))"
   ]
  },
  {
   "cell_type": "code",
   "execution_count": 222,
   "metadata": {},
   "outputs": [
    {
     "output_type": "stream",
     "name": "stdout",
     "text": [
      "Accuracy: 0.8480509148766905\n"
     ]
    }
   ],
   "source": [
    "#comparar com o random Forest\n",
    "\n",
    "from sklearn.ensemble import RandomForestClassifier # Import Decision Tree Classifier\n",
    "# Create Decision Tree classifer object\n",
    "clf2 = RandomForestClassifier()\n",
    "\n",
    "# Train Decision Tree Classifer\n",
    "clf2 = clf2.fit(dados_treino, resultados_treino)\n",
    "\n",
    "#Predict the response for test dataset\n",
    "predicted2 = clf2.predict(dados_teste)\n",
    "\n",
    "# Model Accuracy, how often is the classifier correct?\n",
    "print(\"Accuracy:\",metrics.accuracy_score(resultados_teste, predicted2))"
   ]
  },
  {
   "cell_type": "code",
   "execution_count": 223,
   "metadata": {},
   "outputs": [
    {
     "output_type": "stream",
     "name": "stdout",
     "text": [
      "Accuracy: 0.7756563245823389\nMean Absolute Error: 0.2243436754176611\nMean Squared Error: 0.2243436754176611\n"
     ]
    }
   ],
   "source": [
    "#CART COM REGRESSOR\n",
    "from sklearn.tree import DecisionTreeRegressor \n",
    "# create a regressor object\n",
    "regressor = DecisionTreeRegressor() \n",
    "  \n",
    "# fit the regressor with X and Y data\n",
    "regressor.fit(dados_treino, resultados_treino)\n",
    "predict = regressor.predict(dados_teste)\n",
    "# Model Accuracy, how often is the classifier correct?\n",
    "print(\"Accuracy:\",metrics.accuracy_score(resultados_teste, predict))\n",
    "\n",
    "print(\"Mean Absolute Error:\",mae(resultados_teste,regressor.predict(dados_teste)))\n",
    "\n",
    "print(\"Mean Squared Error:\",mse(resultados_teste,regressor.predict(dados_teste)))"
   ]
  },
  {
   "cell_type": "code",
   "execution_count": 224,
   "metadata": {},
   "outputs": [
    {
     "output_type": "execute_result",
     "data": {
      "text/plain": [
       "array([[1804,  305],\n",
       "       [ 259,  146]])"
      ]
     },
     "metadata": {},
     "execution_count": 224
    }
   ],
   "source": [
    "\n",
    "confusion_matrix(resultados_teste, regressor.predict( dados_teste))"
   ]
  },
  {
   "cell_type": "code",
   "execution_count": 225,
   "metadata": {},
   "outputs": [
    {
     "output_type": "stream",
     "name": "stdout",
     "text": [
      "              precision    recall  f1-score   support\n\n           0       0.87      0.86      0.86      2109\n           1       0.32      0.36      0.34       405\n\n    accuracy                           0.78      2514\n   macro avg       0.60      0.61      0.60      2514\nweighted avg       0.79      0.78      0.78      2514\n\n"
     ]
    }
   ],
   "source": [
    "\n",
    "print(classification_report(resultados_teste, regressor.predict(dados_teste)))"
   ]
  },
  {
   "cell_type": "code",
   "execution_count": null,
   "metadata": {},
   "outputs": [],
   "source": []
  }
 ]
}